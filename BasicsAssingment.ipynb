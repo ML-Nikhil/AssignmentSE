{
 "cells": [
  {
   "cell_type": "code",
   "execution_count": null,
   "id": "6f3ffd35-6ee1-4a3e-a47c-21dfd1cee816",
   "metadata": {},
   "outputs": [],
   "source": [
    "# 1) Create a list and:\n",
    "# - reverse the order of the list.\n",
    "# - append a item in it.\n",
    "# - extend the two lists into one.\n",
    "# - insert a item in list.\n",
    "# - sort the values in ‘descending order.’\n",
    "# -remove the last item in the list.\n",
    "\n",
    "list_1 = [i for i in range(1,22) if i%3 ==0]\n",
    "print('The Original list :',list_1)\n",
    "# Reversing the order of list\n",
    "list_2 = list(reversed(list_1))\n",
    "print('The Reversed List :',list_2)\n",
    "\n",
    "# Extending list_1 by list_2\n",
    "list_1.extend(list_2)\n",
    "print('The Extended List_1 :',list_1)\n",
    "# Inserting 99 at index 0\n",
    "list_1.insert(0,99)\n",
    "print('The Updated List_1 :', list_1)\n",
    "# Sorthing List in decresing order\n",
    "list_1.sort(reverse = True)\n",
    "print('The Sorted List_1 :',list_1)\n",
    "\n",
    "# removing last item in list\n",
    "list_1.pop()\n",
    "print(list_1)"
   ]
  },
  {
   "cell_type": "code",
   "execution_count": 3,
   "id": "e24d7fcc-3208-49ea-a3b4-1ab27757c0ce",
   "metadata": {},
   "outputs": [
    {
     "name": "stdout",
     "output_type": "stream",
     "text": [
      "String before split : Hi this  is your  String\n",
      "String after split  : ['Hi this', 'is your', 'String']\n",
      "The Replaced String : Hi this#is your#String\n"
     ]
    }
   ],
   "source": [
    "# 2) Create a string and :\n",
    "# -split the string by ( “  “).\n",
    "# -replace the values in it.\n",
    "\n",
    "test_str = 'Hi this  is your  String'\n",
    "print('String before split :',test_str)\n",
    "splt_str = test_str.split('  ')\n",
    "print('String after split  :',splt_str)\n",
    "# replacing \"  \" by a 3\n",
    "repl_str = test_str.replace(\"  \",'#')\n",
    "print('The Replaced String :',repl_str)"
   ]
  },
  {
   "cell_type": "code",
   "execution_count": null,
   "id": "b7e0ef4a-d114-4b13-9a53-a103ed2aa9af",
   "metadata": {},
   "outputs": [],
   "source": [
    "# 3) Create a dictionary with keys and values:\n",
    "# -sort the value’s by using keys or values.\n",
    "# -merge two dictionaries\n",
    "# -delete a key in the dictionary.\n",
    "# -access a value by using key of the dictionary.\n",
    "\n",
    "dict_1 = {'key2':'Value2','key1':'Value1','key4':'Value4','key3':'Value3'}\n",
    "dict_2 = {'key4':19,'key3':18,'key2':17,'key1':16}\n",
    "# sorting dict_1 by Alphabetical order\n",
    "sort_dict1 = dict(sorted(dict_1.items()))\n",
    "print('First Dictionary',dict_1)\n",
    "print('Key Sorted First Dictionary :',sort_dict1)\n",
    "# sorting dict_2 by values\n",
    "sort_dict2 = dict(sorted(dict_2.items(),key = lambda i : i[1]))\n",
    "print('Second Dictionary',dict_2)\n",
    "print('Value sorted Second Dictionary',sort_dict2)"
   ]
  },
  {
   "cell_type": "code",
   "execution_count": 15,
   "id": "e77e4b76-c7c6-4f9e-bf54-185c39633ee9",
   "metadata": {},
   "outputs": [
    {
     "name": "stdout",
     "output_type": "stream",
     "text": [
      "Concatenated Tuple ('Vivo', 11.5, 'Android', 25000, 'Oppo', 12.5, 'Android', 30000)\n",
      "Sliced From tup3 ('Vivo', 11.5, 'Android')\n",
      "Sliced From tup4 Android\n"
     ]
    }
   ],
   "source": [
    "# 4) Create a tuple’s with both string an integers and:\n",
    "# -make two tuples as one(i.e add).\n",
    "# - delete a item in tuple.\n",
    "\n",
    "tup1 = ('Vivo', 11.5,'Android',25000)\n",
    "tup2 = ('Oppo', 12.5,'Android',30000)\n",
    "keys = ('Brand','Display','OS','Price')\n",
    "\n",
    "# Concatenating tuple\n",
    "tup3 = tuple(tup1+tup2)\n",
    "print('Concatenated Tuple',tup3)\n",
    "tup4 = ((tup1),(tup2))\n",
    "# Representation as tuple of a tuple\n",
    "\n",
    "# Since tuples are immutable it is not possible to delete an item from tuple\n",
    "# if contents of existing tuples are required they can be sliced out\n",
    "tup5 = tup3[:3] # returns first 3 values\n",
    "print('Sliced From tup3',tup5)\n",
    "print('Sliced From tup4',tup4[0][2])"
   ]
  },
  {
   "cell_type": "code",
   "execution_count": 29,
   "id": "3fb666ae-bc67-4e23-b37a-8d9b7ede1ccd",
   "metadata": {},
   "outputs": [
    {
     "name": "stdout",
     "output_type": "stream",
     "text": [
      "{'1': 1, '2': 2, '3': 3, '4': 4, '5': 5, '6': 6, '7': 7, '8': 8, '9': 9, '10': 10}\n",
      "{'Brand': 'Oppo', 'Display': 12.5, 'OS': 'Android', 'Price': 30000}\n"
     ]
    }
   ],
   "source": [
    "# 5) Convert a tuple into dictionary.\n",
    "t1 = (1,2,3,4,5,6,7,8,9,10)\n",
    "dict_1 = {str(key):values for (key,values) in zip(t1,t1)}\n",
    "print(dict_1)\n",
    "dict_2 = {keys:values for (keys,values) in zip(keys,tup2)}\n",
    "print(dict_2)"
   ]
  },
  {
   "cell_type": "code",
   "execution_count": 36,
   "id": "649793c2-1bff-47c7-a4fd-0d091d4a52b8",
   "metadata": {},
   "outputs": [
    {
     "name": "stdin",
     "output_type": "stream",
     "text": [
      "Enter a value for a 5\n",
      "Enter a value for b 6\n",
      "Enter a value for c 6\n"
     ]
    },
    {
     "name": "stdout",
     "output_type": "stream",
     "text": [
      "Numbers have equality.Try entering different values\n"
     ]
    }
   ],
   "source": [
    "# 6)Write functions by using If/ If else / if elif else condition’s \n",
    "\n",
    "# Creating a Max function to determine which number is largest\n",
    "def Max(a,b,c):\n",
    "    if (a==b) or (b==c):\n",
    "        print('Numbers have equality.Try entering different values')\n",
    "    elif (a > b) and (a>c):\n",
    "        print('largest number is',a)\n",
    "    elif (b>a) and (b > c):\n",
    "        print('largest number is',b)\n",
    "    else : \n",
    "        print('largest number is',c)\n",
    "        return\n",
    "a = input('Enter a value for a')\n",
    "b = input('Enter a value for b')\n",
    "c = input('Enter a value for c')\n",
    "Max(a,b,c)\n",
    "\n",
    "    "
   ]
  },
  {
   "cell_type": "code",
   "execution_count": null,
   "id": "8c62b7d2-72ac-4793-abbc-cdb7dfd30af1",
   "metadata": {},
   "outputs": [],
   "source": [
    "# 7)Write functions by using different loops I.e for loop,while loop and nested loop.\n",
    "def "
   ]
  }
 ],
 "metadata": {
  "kernelspec": {
   "display_name": "Python 3 (ipykernel)",
   "language": "python",
   "name": "python3"
  },
  "language_info": {
   "codemirror_mode": {
    "name": "ipython",
    "version": 3
   },
   "file_extension": ".py",
   "mimetype": "text/x-python",
   "name": "python",
   "nbconvert_exporter": "python",
   "pygments_lexer": "ipython3",
   "version": "3.8.8"
  }
 },
 "nbformat": 4,
 "nbformat_minor": 5
}
