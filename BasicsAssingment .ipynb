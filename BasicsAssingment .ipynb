{
 "cells": [
  {
   "cell_type": "code",
   "execution_count": 329,
   "id": "6f3ffd35-6ee1-4a3e-a47c-21dfd1cee816",
   "metadata": {},
   "outputs": [
    {
     "name": "stdout",
     "output_type": "stream",
     "text": [
      "The Original list : [3, 6, 9, 12, 15, 18, 21]\n",
      "The Reversed List : [21, 18, 15, 12, 9, 6, 3]\n",
      "The Extended List_1 : [3, 6, 9, 12, 15, 18, 21, 21, 18, 15, 12, 9, 6, 3]\n",
      "The Updated List_1 : [99, 3, 6, 9, 12, 15, 18, 21, 21, 18, 15, 12, 9, 6, 3]\n",
      "The Sorted List_1 : [99, 21, 21, 18, 18, 15, 15, 12, 12, 9, 9, 6, 6, 3, 3]\n",
      "[99, 21, 21, 18, 18, 15, 15, 12, 12, 9, 9, 6, 6, 3]\n"
     ]
    }
   ],
   "source": [
    "# 1) Create a list and:\n",
    "# - reverse the order of the list.\n",
    "# - append a item in it.\n",
    "# - extend the two lists into one.\n",
    "# - insert a item in list.\n",
    "# - sort the values in ‘descending order.’\n",
    "# -remove the last item in the list.\n",
    "\n",
    "list_1 = [i for i in range(1,22) if i%3 ==0]\n",
    "print('The Original list :',list_1)\n",
    "# Reversing the order of list\n",
    "list_2 = list(reversed(list_1))\n",
    "print('The Reversed List :',list_2)\n",
    "\n",
    "# Extending list_1 by list_2\n",
    "list_1.extend(list_2)\n",
    "print('The Extended List_1 :',list_1)\n",
    "# Inserting 99 at index 0\n",
    "list_1.insert(0,99)\n",
    "print('The Updated List_1 :', list_1)\n",
    "# Sorthing List in decresing order\n",
    "list_1.sort(reverse = True)\n",
    "print('The Sorted List_1 :',list_1)\n",
    "\n",
    "# removing last item in list\n",
    "list_1.pop()\n",
    "print(list_1)"
   ]
  },
  {
   "cell_type": "code",
   "execution_count": 330,
   "id": "e24d7fcc-3208-49ea-a3b4-1ab27757c0ce",
   "metadata": {},
   "outputs": [
    {
     "name": "stdout",
     "output_type": "stream",
     "text": [
      "String before split : Hi this  is your  String\n",
      "String after split  : ['Hi this', 'is your', 'String']\n",
      "The Replaced String : Hi this#is your#String\n"
     ]
    }
   ],
   "source": [
    "# 2) Create a string and :\n",
    "# -split the string by ( “  “).\n",
    "# -replace the values in it.\n",
    "\n",
    "test_str = 'Hi this  is your  String'\n",
    "print('String before split :',test_str)\n",
    "splt_str = test_str.split('  ')\n",
    "print('String after split  :',splt_str)\n",
    "# replacing \"  \" by a 3\n",
    "repl_str = test_str.replace(\"  \",'#')\n",
    "print('The Replaced String :',repl_str)"
   ]
  },
  {
   "cell_type": "code",
   "execution_count": 15,
   "id": "b7e0ef4a-d114-4b13-9a53-a103ed2aa9af",
   "metadata": {},
   "outputs": [
    {
     "name": "stdout",
     "output_type": "stream",
     "text": [
      "A normal dictionary cannot be sorted as it is mapping not a sequence \n",
      "Sorting only possible iff value are in numeric format \n",
      "\n",
      "The first dictionaty : {'Name': 'Nikhil', 'Job': 'Field_Er', 'Age': 26, 'Education': 'Post-Graduate'}\n",
      "The second dictionaty : {'Experience': 2, 'Department': 'Operation', 'Title': 'Mr'}\n",
      "The Updated dictionary: {'Name': 'Nikhil', 'Job': 'Field_Er', 'Age': 26, 'Education': 'Post-Graduate', 'Experience': 2, 'Department': 'Operation', 'Title': 'Mr'}\n",
      "The dictionary after removing Title key  {'Experience': 2, 'Department': 'Operation'}\n",
      "Post-Graduate\n"
     ]
    }
   ],
   "source": [
    "# 3) Create a dictionary with keys and values:\n",
    "# -sort the value’s by using keys or values.\n",
    "# -merge two dictionaries\n",
    "# -delete a key in the dictionary.\n",
    "# -access a value by using key of the dictionary.\n",
    "\n",
    "dict_1 = {'Name':'Nikhil','Job':'Field_Er','Age':26,'Education':'Post-Graduate'}\n",
    "dict_2 = {'Experience':2,'Department':'Operation','Title':'Mr'}\n",
    "\n",
    "# -sort the value’s by using keys or values.\n",
    "print('A normal dictionary cannot be sorted as it is mapping not a sequence ')\n",
    "print('Sorting only possible iff value are in numeric format \\n')\n",
    "\n",
    "# Merging both sorted dictionariries\n",
    "print('The first dictionaty :',dict_1)\n",
    "print('The second dictionaty :',dict_2)\n",
    "dict_1.update(dict_2)\n",
    "print('The Updated dictionary:',dict_1)\n",
    "\n",
    "# Delete a key from dict_2\n",
    "dict_2.pop('Title')\n",
    "print('The dictionary after removing Title key ',dict_2)\n",
    "\n",
    "# Accessing a value from dictionary using key\n",
    "print(dict_1['Education'])"
   ]
  },
  {
   "cell_type": "code",
   "execution_count": 332,
   "id": "e77e4b76-c7c6-4f9e-bf54-185c39633ee9",
   "metadata": {},
   "outputs": [
    {
     "name": "stdout",
     "output_type": "stream",
     "text": [
      "Concatenated Tuple ('Vivo', 11.5, 'Android', 25000, 'Oppo', 12.5, 'Android', 30000)\n",
      "Sliced From tup3 ('Vivo', 11.5, 'Android')\n",
      "Sliced From tup4 Android\n"
     ]
    }
   ],
   "source": [
    "# 4) Create a tuple’s with both string an integers and:\n",
    "# -make two tuples as one(i.e add).\n",
    "# - delete a item in tuple.\n",
    "\n",
    "tup1 = ('Vivo', 11.5,'Android',25000)\n",
    "tup2 = ('Oppo', 12.5,'Android',30000)\n",
    "keys = ('Brand','Display','OS','Price')\n",
    "\n",
    "# Concatenating tuple\n",
    "tup3 = tuple(tup1+tup2)\n",
    "print('Concatenated Tuple',tup3)\n",
    "tup4 = ((tup1),(tup2))\n",
    "# Representation as tuple of a tuple\n",
    "\n",
    "# Since tuples are immutable it is not possible to delete an item from tuple\n",
    "# if contents of existing tuples are required they can be sliced out\n",
    "tup5 = tup3[:3] # returns first 3 values\n",
    "print('Sliced From tup3',tup5)\n",
    "print('Sliced From tup4',tup4[0][2])"
   ]
  },
  {
   "cell_type": "code",
   "execution_count": 333,
   "id": "3fb666ae-bc67-4e23-b37a-8d9b7ede1ccd",
   "metadata": {},
   "outputs": [
    {
     "name": "stdout",
     "output_type": "stream",
     "text": [
      "{'1': 1, '2': 2, '3': 3, '4': 4, '5': 5, '6': 6, '7': 7, '8': 8, '9': 9, '10': 10}\n",
      "{'Brand': 'Oppo', 'Display': 12.5, 'OS': 'Android', 'Price': 30000}\n"
     ]
    }
   ],
   "source": [
    "# 5) Convert a tuple into dictionary.\n",
    "t1 = (1,2,3,4,5,6,7,8,9,10)\n",
    "dict_1 = {str(key):values for (key,values) in zip(t1,t1)}\n",
    "print(dict_1)\n",
    "tup2 = ('Oppo', 12.5,'Android',30000)\n",
    "keys = ('Brand','Display','OS','Price')\n",
    "dict_2 = {keys:values for (keys,values) in zip(keys,tup2)}\n",
    "print(dict_2)"
   ]
  },
  {
   "cell_type": "code",
   "execution_count": 336,
   "id": "649793c2-1bff-47c7-a4fd-0d091d4a52b8",
   "metadata": {},
   "outputs": [
    {
     "name": "stdin",
     "output_type": "stream",
     "text": [
      "Enter a value for a 12\n",
      "Enter a value for b 14\n",
      "Enter a value for c 16\n"
     ]
    },
    {
     "name": "stdout",
     "output_type": "stream",
     "text": [
      "largest number is 16\n"
     ]
    }
   ],
   "source": [
    "# 6)Write functions by using If/ If else / if elif else condition’s \n",
    "\n",
    "# Creating a Max function to determine which number is largest\n",
    "def Max(a,b,c):\n",
    "    if (a==b) or (b==c):\n",
    "        print('Numbers have equality.Try entering different values')\n",
    "    elif (a > b) and (a>c):\n",
    "        print('largest number is',a)\n",
    "    elif (b>a) and (b > c):\n",
    "        print('largest number is',b)\n",
    "    else : \n",
    "        print('largest number is',c)\n",
    "        return\n",
    "a = input('Enter a value for a')\n",
    "b = input('Enter a value for b')\n",
    "c = input('Enter a value for c')\n",
    "Max(a,b,c)\n",
    "\n",
    "    "
   ]
  },
  {
   "cell_type": "code",
   "execution_count": 337,
   "id": "8c62b7d2-72ac-4793-abbc-cdb7dfd30af1",
   "metadata": {},
   "outputs": [
    {
     "name": "stdout",
     "output_type": "stream",
     "text": [
      "Prime List [23, 29, 31, 37, 41, 43, 47]\n",
      "No Prime List [24, 25, 26, 27, 28, 30, 32, 33, 34, 35, 36, 38, 39, 40, 42, 44, 45, 46, 48, 49]\n"
     ]
    }
   ],
   "source": [
    "# 7)Write functions by using different loops I.e for loop,while loop and nested loop.\n",
    "# Function returns list of \n",
    "def Prime(start,end):\n",
    "    \"\"\" 1 is not a Prime Number \"\"\"\n",
    "    prime=[]\n",
    "    no_prime=[]\n",
    "    for num in range(start, end + 1):\n",
    "    # all prime numbers are greater than 1\n",
    "    # if number is less than or equal to 1, it is not prime\n",
    "        if num > 1:\n",
    "            for i in range(2, num):\n",
    "            # check for factors\n",
    "                if (num % i) == 0:\n",
    "                    no_prime.append(num)\n",
    "                     # not a prime number so break inner loop and\n",
    "                    # look for next number\n",
    "                    break\n",
    "            else:\n",
    "                prime.append(num)\n",
    "    print('Prime List',(prime))\n",
    "    print('No Prime List',no_prime)\n",
    "    return \n",
    "Prime(23,49)"
   ]
  },
  {
   "cell_type": "code",
   "execution_count": 338,
   "id": "00db56ca-2191-460d-ad61-1091d1648a7f",
   "metadata": {},
   "outputs": [
    {
     "name": "stdin",
     "output_type": "stream",
     "text": [
      "Enter a value to be search in list Nikhil\n"
     ]
    },
    {
     "name": "stdout",
     "output_type": "stream",
     "text": [
      "Value entered is present in list at index 5\n"
     ]
    }
   ],
   "source": [
    "# 8)Check whether an item or value is present in the list by using “for loop with if condition”.\n",
    "list_1 = [3,4,5,6,7,'Nikhil',]\n",
    "x = input('Enter a value to be search in list')\n",
    "if x in list_1:\n",
    "    print('Value entered is present in list at index',list_1.index(x))\n",
    "else:\n",
    "    print('Not Present')\n",
    "# Try Entering Nikhil for shown result"
   ]
  },
  {
   "cell_type": "code",
   "execution_count": 339,
   "id": "b9753640-4501-477f-9ac2-0e60e6445311",
   "metadata": {},
   "outputs": [
    {
     "data": {
      "text/html": [
       "<div>\n",
       "<style scoped>\n",
       "    .dataframe tbody tr th:only-of-type {\n",
       "        vertical-align: middle;\n",
       "    }\n",
       "\n",
       "    .dataframe tbody tr th {\n",
       "        vertical-align: top;\n",
       "    }\n",
       "\n",
       "    .dataframe thead th {\n",
       "        text-align: right;\n",
       "    }\n",
       "</style>\n",
       "<table border=\"1\" class=\"dataframe\">\n",
       "  <thead>\n",
       "    <tr style=\"text-align: right;\">\n",
       "      <th></th>\n",
       "      <th>PLACE_RATE</th>\n",
       "      <th>APPLICANTS</th>\n",
       "    </tr>\n",
       "  </thead>\n",
       "  <tbody>\n",
       "    <tr>\n",
       "      <th>0</th>\n",
       "      <td>61</td>\n",
       "      <td>5945</td>\n",
       "    </tr>\n",
       "    <tr>\n",
       "      <th>1</th>\n",
       "      <td>50</td>\n",
       "      <td>6500</td>\n",
       "    </tr>\n",
       "    <tr>\n",
       "      <th>2</th>\n",
       "      <td>53</td>\n",
       "      <td>5888</td>\n",
       "    </tr>\n",
       "    <tr>\n",
       "      <th>3</th>\n",
       "      <td>55</td>\n",
       "      <td>4000</td>\n",
       "    </tr>\n",
       "    <tr>\n",
       "      <th>4</th>\n",
       "      <td>50</td>\n",
       "      <td>4700</td>\n",
       "    </tr>\n",
       "  </tbody>\n",
       "</table>\n",
       "</div>"
      ],
      "text/plain": [
       "   PLACE_RATE  APPLICANTS\n",
       "0          61        5945\n",
       "1          50        6500\n",
       "2          53        5888\n",
       "3          55        4000\n",
       "4          50        4700"
      ]
     },
     "execution_count": 339,
     "metadata": {},
     "output_type": "execute_result"
    }
   ],
   "source": [
    "# 9)Import a data into python by using pandas module.\n",
    "#   -csv format data\n",
    "#   -excel format data\n",
    "import pandas as pd\n",
    "df_stud = pd.read_csv('D:/SEML/Dataset/stud_reg.csv')\n",
    "df_iris = pd.read_excel('D:/SEML/Dataset/IRIS.xlsx')\n",
    "df_stud.head(5)\n"
   ]
  },
  {
   "cell_type": "code",
   "execution_count": 340,
   "id": "05e3c782-714c-47c4-bf47-9ef117ee82d8",
   "metadata": {},
   "outputs": [
    {
     "data": {
      "text/html": [
       "<div>\n",
       "<style scoped>\n",
       "    .dataframe tbody tr th:only-of-type {\n",
       "        vertical-align: middle;\n",
       "    }\n",
       "\n",
       "    .dataframe tbody tr th {\n",
       "        vertical-align: top;\n",
       "    }\n",
       "\n",
       "    .dataframe thead th {\n",
       "        text-align: right;\n",
       "    }\n",
       "</style>\n",
       "<table border=\"1\" class=\"dataframe\">\n",
       "  <thead>\n",
       "    <tr style=\"text-align: right;\">\n",
       "      <th></th>\n",
       "      <th>sepal_length</th>\n",
       "      <th>sepal_width</th>\n",
       "      <th>petal_length</th>\n",
       "      <th>petal_width</th>\n",
       "      <th>species</th>\n",
       "    </tr>\n",
       "  </thead>\n",
       "  <tbody>\n",
       "    <tr>\n",
       "      <th>0</th>\n",
       "      <td>5.1</td>\n",
       "      <td>3.5</td>\n",
       "      <td>1.4</td>\n",
       "      <td>0.2</td>\n",
       "      <td>Iris-setosa</td>\n",
       "    </tr>\n",
       "    <tr>\n",
       "      <th>1</th>\n",
       "      <td>4.9</td>\n",
       "      <td>3.0</td>\n",
       "      <td>1.4</td>\n",
       "      <td>0.2</td>\n",
       "      <td>Iris-setosa</td>\n",
       "    </tr>\n",
       "    <tr>\n",
       "      <th>2</th>\n",
       "      <td>4.7</td>\n",
       "      <td>3.2</td>\n",
       "      <td>1.3</td>\n",
       "      <td>0.2</td>\n",
       "      <td>Iris-setosa</td>\n",
       "    </tr>\n",
       "    <tr>\n",
       "      <th>3</th>\n",
       "      <td>4.6</td>\n",
       "      <td>3.1</td>\n",
       "      <td>1.5</td>\n",
       "      <td>0.2</td>\n",
       "      <td>Iris-setosa</td>\n",
       "    </tr>\n",
       "    <tr>\n",
       "      <th>4</th>\n",
       "      <td>5.0</td>\n",
       "      <td>3.6</td>\n",
       "      <td>1.4</td>\n",
       "      <td>0.2</td>\n",
       "      <td>Iris-setosa</td>\n",
       "    </tr>\n",
       "  </tbody>\n",
       "</table>\n",
       "</div>"
      ],
      "text/plain": [
       "   sepal_length  sepal_width  petal_length  petal_width      species\n",
       "0           5.1          3.5           1.4          0.2  Iris-setosa\n",
       "1           4.9          3.0           1.4          0.2  Iris-setosa\n",
       "2           4.7          3.2           1.3          0.2  Iris-setosa\n",
       "3           4.6          3.1           1.5          0.2  Iris-setosa\n",
       "4           5.0          3.6           1.4          0.2  Iris-setosa"
      ]
     },
     "execution_count": 340,
     "metadata": {},
     "output_type": "execute_result"
    }
   ],
   "source": [
    "df_iris.head(5)"
   ]
  },
  {
   "cell_type": "code",
   "execution_count": 341,
   "id": "7cd3569e-2986-4008-a5ba-07fc8023d7f4",
   "metadata": {},
   "outputs": [
    {
     "data": {
      "text/html": [
       "<div>\n",
       "<style scoped>\n",
       "    .dataframe tbody tr th:only-of-type {\n",
       "        vertical-align: middle;\n",
       "    }\n",
       "\n",
       "    .dataframe tbody tr th {\n",
       "        vertical-align: top;\n",
       "    }\n",
       "\n",
       "    .dataframe thead th {\n",
       "        text-align: right;\n",
       "    }\n",
       "</style>\n",
       "<table border=\"1\" class=\"dataframe\">\n",
       "  <thead>\n",
       "    <tr style=\"text-align: right;\">\n",
       "      <th></th>\n",
       "      <th>Male_ht</th>\n",
       "      <th>Female_ht</th>\n",
       "      <th>Weight</th>\n",
       "    </tr>\n",
       "  </thead>\n",
       "  <tbody>\n",
       "    <tr>\n",
       "      <th>count</th>\n",
       "      <td>127.000000</td>\n",
       "      <td>127.000000</td>\n",
       "      <td>127.000000</td>\n",
       "    </tr>\n",
       "    <tr>\n",
       "      <th>mean</th>\n",
       "      <td>177.170427</td>\n",
       "      <td>163.019116</td>\n",
       "      <td>67.970644</td>\n",
       "    </tr>\n",
       "    <tr>\n",
       "      <th>std</th>\n",
       "      <td>1.941826</td>\n",
       "      <td>0.976882</td>\n",
       "      <td>0.962980</td>\n",
       "    </tr>\n",
       "    <tr>\n",
       "      <th>min</th>\n",
       "      <td>172.801305</td>\n",
       "      <td>160.429931</td>\n",
       "      <td>65.814577</td>\n",
       "    </tr>\n",
       "    <tr>\n",
       "      <th>25%</th>\n",
       "      <td>175.704457</td>\n",
       "      <td>162.373402</td>\n",
       "      <td>67.297386</td>\n",
       "    </tr>\n",
       "    <tr>\n",
       "      <th>50%</th>\n",
       "      <td>177.077147</td>\n",
       "      <td>163.030385</td>\n",
       "      <td>68.012018</td>\n",
       "    </tr>\n",
       "    <tr>\n",
       "      <th>75%</th>\n",
       "      <td>178.432466</td>\n",
       "      <td>163.636709</td>\n",
       "      <td>68.605916</td>\n",
       "    </tr>\n",
       "    <tr>\n",
       "      <th>max</th>\n",
       "      <td>181.976187</td>\n",
       "      <td>165.435408</td>\n",
       "      <td>70.020887</td>\n",
       "    </tr>\n",
       "  </tbody>\n",
       "</table>\n",
       "</div>"
      ],
      "text/plain": [
       "          Male_ht   Female_ht      Weight\n",
       "count  127.000000  127.000000  127.000000\n",
       "mean   177.170427  163.019116   67.970644\n",
       "std      1.941826    0.976882    0.962980\n",
       "min    172.801305  160.429931   65.814577\n",
       "25%    175.704457  162.373402   67.297386\n",
       "50%    177.077147  163.030385   68.012018\n",
       "75%    178.432466  163.636709   68.605916\n",
       "max    181.976187  165.435408   70.020887"
      ]
     },
     "execution_count": 341,
     "metadata": {},
     "output_type": "execute_result"
    }
   ],
   "source": [
    "# 10)create 3 lists and make a dataframe with it and perform all 4 moments of business decisions.\n",
    "import pandas as pd\n",
    "df = pd.read_excel('D:/SEML/Dataset/BA10.xlsx')\n",
    "# Lists extracted\n",
    "m_ht = list(df.iloc[:,0].values)\n",
    "f_ht = list(df.iloc[:,1].values)\n",
    "wt = list(df.iloc[:,-1].values)\n",
    "\n",
    "\" Creating a DataFrame 'dataset' from above Lists \"\n",
    "dataset = pd.DataFrame(list(zip(m_ht,f_ht,wt)),columns=['Male_ht','Female_ht','Weight'])\n",
    "# Data Assignments\n",
    "m = dataset['Male_ht'].values # Assigning values to a variable m of Male heights\n",
    "f = dataset['Female_ht'].values # Assigning values to a variable f of Female heights\n",
    "w = dataset['Weight'].values\n",
    "dataset.head(5)\n",
    "dataset.describe()"
   ]
  },
  {
   "cell_type": "code",
   "execution_count": 342,
   "id": "1e496cc9-9eb5-460f-ac1b-1fdbc245fe6d",
   "metadata": {},
   "outputs": [],
   "source": [
    "# Performing 4 Decision Moments :- Central Tendency, Variability , Kurtosis and Skewness \n",
    "# Function here apllicable only for \"\"\"\"\" Continuous Data \"\"\"\"\"\n",
    "import numpy as np\n",
    "import statistics as ss\n",
    "import scipy\n",
    "from scipy.stats import norm\n",
    "from scipy import stats\n",
    "from scipy.stats import skew\n",
    "def CentralTendency(x):\n",
    "        print(\" MEASURES OF CENTRAL TENDENCY \")\n",
    "        print('  mean:',round(ss.mean(x),2))\n",
    "        print('median:',round(ss.median(x),2))\n",
    "        print('  mode:',round(ss.mode(x),2))\n",
    "        print('   min:',min(x))\n",
    "        print('   max:',max(x))\n",
    "        return\n",
    "def Variability(x):\n",
    "    print(\" MEASURES OF VARIABILITY \")\n",
    "    print('    25%:',round(np.percentile(x,25,interpolation='midpoint'),2))\n",
    "    print('    50%:',round(np.percentile(x,50,interpolation='midpoint'),2))\n",
    "    print('    75%:',round(np.percentile(x,75,interpolation='midpoint'),2))\n",
    "    print('    IQR:',round(stats.iqr(x,interpolation='midpoint'),2))\n",
    "    print('    std:',ss.stdev(x))\n",
    "    print('  range:',max(m)-min(x))\n",
    "    print('variace:',ss.variance(x))\n",
    "    return\n",
    "def Emperical_rule(x):\n",
    "    print(\" EMPERICAL RULE \")\n",
    "    c1sb = ss.mean(x)-ss.stdev(x)\n",
    "    c1sa = ss.mean(x)+ss.stdev(x)\n",
    "    c2sb = ss.mean(x)-(2*ss.stdev(x))\n",
    "    c2sa = ss.mean(x)+(2*ss.stdev(x))\n",
    "    c3sb = ss.mean(x)-(3*ss.stdev(x))\n",
    "    c3sa = ss.mean(x)+(3*ss.stdev(x))\n",
    "    print('First Interval',(c1sb,c1sa))\n",
    "    print('Second Interval',(c2sb,c2sa))\n",
    "    print('Third Interval',(c3sb,c3sa))\n",
    "    print(\"Proportion within 1-sd\",round(len([i for i in x if ((i >=c1sb) and (i<=c1sa))])/len(m_ht),2))\n",
    "    print(\"Proportion within 2-sd\",round(len([i for i in x if ((i >=c2sb) and (i<=c2sa))])/len(m_ht),2))\n",
    "    print(\"Proportion within 3-sd\",round(len([i for i in x if ((i >=c3sb) and (i<=c3sa))])/len(m_ht),2))\n",
    "    return\n",
    "def Skew_Kurt(x):\n",
    "    print('Skewness',skew(x))\n",
    "    print('Kurtosis',stats.kurtosis(x))"
   ]
  },
  {
   "cell_type": "code",
   "execution_count": 343,
   "id": "0a9fdff1-38c7-4501-b1d4-8f0ea99782ee",
   "metadata": {},
   "outputs": [
    {
     "name": "stdout",
     "output_type": "stream",
     "text": [
      " ANALYSIS MALE HEIGHTS \n",
      " MEASURES OF CENTRAL TENDENCY \n",
      "  mean: 177.17\n",
      "median: 177.08\n",
      "  mode: 174.99\n",
      "   min: 172.801304707509\n",
      "   max: 181.97618721829718\n",
      " MEASURES OF VARIABILITY \n",
      "    25%: 175.7\n",
      "    50%: 177.08\n",
      "    75%: 178.43\n",
      "    IQR: 2.73\n",
      "    std: 1.9418256769184983\n",
      "  range: 9.174882510788194\n",
      "variace: 3.770686959539984\n",
      " EMPERICAL RULE \n",
      "First Interval (175.2286015438314, 179.1122528976684)\n",
      "Second Interval (173.2867758669129, 181.0540785745869)\n",
      "Third Interval (171.3449501899944, 182.9959042515054)\n",
      "Proportion within 1-sd 0.65\n",
      "Proportion within 2-sd 0.96\n",
      "Proportion within 3-sd 1.0\n",
      "Skewness 0.2701735550503424\n",
      "Kurtosis -0.43998000547030225\n"
     ]
    }
   ],
   "source": [
    "print(\" ANALYSIS MALE HEIGHTS \")\n",
    "CentralTendency(m)\n",
    "Variability(m)\n",
    "Emperical_rule(m)\n",
    "Skew_Kurt(m)"
   ]
  },
  {
   "cell_type": "code",
   "execution_count": 344,
   "id": "6a085a7f-8b46-43f3-b835-348bd70d655c",
   "metadata": {},
   "outputs": [
    {
     "data": {
      "image/png": "[encoded data removed]",
      "text/plain": [
       "<Figure size 432x288 with 1 Axes>"
      ]
     },
     "metadata": {
      "needs_background": "light"
     },
     "output_type": "display_data"
    }
   ],
   "source": [
    "# Plotting a histogram of Male Values\n",
    "import matplotlib.pyplot as plt\n",
    "%matplotlib inline\n",
    "plt.hist(m,bins=8,color='pink',edgecolor='black',alpha=0.5)\n",
    "plt.title('Histogram Male Height')\n",
    "plt.xlabel('Heights')\n",
    "plt.show()"
   ]
  },
  {
   "cell_type": "code",
   "execution_count": 345,
   "id": "d9430b1f-7415-45d9-aaad-380d1d1aec6b",
   "metadata": {},
   "outputs": [
    {
     "data": {
      "image/png": "[encoded data removed]",
      "text/plain": [
       "<Figure size 432x288 with 1 Axes>"
      ]
     },
     "metadata": {
      "needs_background": "light"
     },
     "output_type": "display_data"
    },
    {
     "name": "stdout",
     "output_type": "stream",
     "text": [
      "Distribution is bit Positive Skewed Can be verified from Central Tendencies\n"
     ]
    }
   ],
   "source": [
    "from scipy.stats import norm\n",
    "x1 = np.linspace(min(m), max(m), 100)\n",
    "y = norm.pdf(x1,ss.mean(m),ss.stdev(m))\n",
    "plt.plot(x1,y, color='coral')\n",
    "plt.grid()\n",
    "plt.xlim(min(m),max(m))\n",
    "plt.ylim(0,0.25)\n",
    "plt.title('Normal distribution Plot of Male Hieght',fontsize=10)\n",
    "plt.xlabel('Heights')\n",
    "plt.ylabel('Normal Distribution')\n",
    "plt.show()\n",
    "print('Distribution is bit Positive Skewed Can be verified from Central Tendencies')"
   ]
  },
  {
   "cell_type": "code",
   "execution_count": 346,
   "id": "5cd78ad3-eefa-43c6-ae3f-f86ff8adbe54",
   "metadata": {},
   "outputs": [
    {
     "name": "stdout",
     "output_type": "stream",
     "text": [
      " ANALYSIS FEMALE HEIGHTS \n",
      " MEASURES OF CENTRAL TENDENCY \n",
      "  mean: 163.02\n",
      "median: 163.03\n",
      "  mode: 163.98\n",
      "   min: 160.42993145976646\n",
      "   max: 165.43540776171938\n",
      " MEASURES OF VARIABILITY \n",
      "    25%: 162.37\n",
      "    50%: 163.03\n",
      "    75%: 163.64\n",
      "    IQR: 1.26\n",
      "    std: 0.9768815148282254\n",
      "  range: 21.54625575853072\n",
      "variace: 0.9542974940130884\n",
      " EMPERICAL RULE \n",
      "First Interval (162.04223481536053, 163.99599784501697)\n",
      "Second Interval (161.0653533005323, 164.9728793598452)\n",
      "Third Interval (160.0884717857041, 165.94976087467342)\n",
      "Proportion within 1-sd 0.71\n",
      "Proportion within 2-sd 0.92\n",
      "Proportion within 3-sd 1.0\n",
      "Skewness -0.07783826203114799\n",
      "Kurtosis 0.1483838044382213\n"
     ]
    }
   ],
   "source": [
    "print(\" ANALYSIS FEMALE HEIGHTS \")\n",
    "CentralTendency(f)\n",
    "Variability(f)\n",
    "Emperical_rule(f)\n",
    "Skew_Kurt(f)"
   ]
  },
  {
   "cell_type": "code",
   "execution_count": 347,
   "id": "87cb56cb-2020-4e9c-aa73-e864710a277f",
   "metadata": {},
   "outputs": [
    {
     "data": {
      "image/png": "[encoded data removed]",
      "text/plain": [
       "<Figure size 432x288 with 1 Axes>"
      ]
     },
     "metadata": {
      "needs_background": "light"
     },
     "output_type": "display_data"
    }
   ],
   "source": [
    "# Plotting a histogram of Female Values\n",
    "%matplotlib inline\n",
    "plt.hist(f,bins=8,color='pink',edgecolor='black',alpha=0.5)\n",
    "plt.title('Histogram Female Height')\n",
    "plt.xlabel('Heights')\n",
    "plt.show()"
   ]
  },
  {
   "cell_type": "code",
   "execution_count": 348,
   "id": "35489e4b-abb3-49df-9cd2-aaa7450a1729",
   "metadata": {},
   "outputs": [
    {
     "data": {
      "image/png": "[encoded data removed]",
      "text/plain": [
       "<Figure size 432x288 with 1 Axes>"
      ]
     },
     "metadata": {
      "needs_background": "light"
     },
     "output_type": "display_data"
    },
    {
     "name": "stdout",
     "output_type": "stream",
     "text": [
      "Distribution is bit Negatively Skewed Can be verified from Central Tendencies\n"
     ]
    }
   ],
   "source": [
    "x1 = np.linspace(min(f), max(f), 100)\n",
    "y = norm.pdf(x1,ss.mean(f),ss.stdev(f))\n",
    "plt.plot(x1,y, color='coral')\n",
    "plt.grid()\n",
    "\n",
    "plt.ylim(0,0.5)\n",
    "plt.title('Normal distribution Plot of Female Hieght',fontsize=10)\n",
    "plt.xlabel('Heights')\n",
    "plt.ylabel('Normal Distribution')\n",
    "plt.show()\n",
    "print('Distribution is bit Negatively Skewed Can be verified from Central Tendencies')"
   ]
  },
  {
   "cell_type": "code",
   "execution_count": 349,
   "id": "6d49e6e3-14c2-4354-9509-e79963b20e63",
   "metadata": {},
   "outputs": [
    {
     "name": "stdout",
     "output_type": "stream",
     "text": [
      " WEIGHTS \n",
      " MEASURES OF CENTRAL TENDENCY \n",
      "  mean: 67.97\n",
      "median: 68.01\n",
      "  mode: 67.67\n",
      "   min: 65.81457738600751\n",
      "   max: 70.02088736169581\n",
      " MEASURES OF VARIABILITY \n",
      "    25%: 67.3\n",
      "    50%: 68.01\n",
      "    75%: 68.61\n",
      "    IQR: 1.31\n",
      "    std: 0.9629801872536563\n",
      "  range: 116.16160983228967\n",
      "variace: 0.9273308410430869\n",
      " EMPERICAL RULE \n",
      "First Interval (67.00766367004763, 68.93362404455496)\n",
      "Second Interval (66.04468348279399, 69.89660423180861)\n",
      "Third Interval (65.08170329554032, 70.85958441906227)\n",
      "Proportion within 1-sd 0.66\n",
      "Proportion within 2-sd 0.96\n",
      "Proportion within 3-sd 1.0\n",
      "Skewness -0.10659372821822358\n",
      "Kurtosis -0.51205147811755\n"
     ]
    }
   ],
   "source": [
    "print(\" WEIGHTS \")\n",
    "CentralTendency(w)\n",
    "Variability(w)\n",
    "Emperical_rule(w)\n",
    "Skew_Kurt(w)"
   ]
  },
  {
   "cell_type": "code",
   "execution_count": 350,
   "id": "0c127026-e56f-47a1-8711-0283fb01f28d",
   "metadata": {},
   "outputs": [
    {
     "data": {
      "image/png": "[encoded data removed]",
      "text/plain": [
       "<Figure size 432x288 with 1 Axes>"
      ]
     },
     "metadata": {
      "needs_background": "light"
     },
     "output_type": "display_data"
    }
   ],
   "source": [
    "# Plotting a histogram of Female Values\n",
    "%matplotlib inline\n",
    "plt.hist(w,bins=8,color='pink',edgecolor='black',alpha=0.5)\n",
    "plt.title('Histogram Weights')\n",
    "plt.xlabel('Weights')\n",
    "plt.show()"
   ]
  },
  {
   "cell_type": "code",
   "execution_count": 351,
   "id": "914a454e-d58c-44d5-ad48-6ecf742691b5",
   "metadata": {},
   "outputs": [
    {
     "data": {
      "image/png": "[encoded data removed]",
      "text/plain": [
       "<Figure size 432x288 with 1 Axes>"
      ]
     },
     "metadata": {
      "needs_background": "light"
     },
     "output_type": "display_data"
    }
   ],
   "source": [
    "x1 = np.linspace(min(w), max(w), 100)\n",
    "y = norm.pdf(x1,ss.mean(w),ss.stdev(w))\n",
    "plt.plot(x1,y, color='coral')\n",
    "plt.grid()\n",
    "plt.xlim(min(w),max(w))\n",
    "plt.ylim(0,0.5)\n",
    "plt.title('Normal distribution Plot of Weight',fontsize=10)\n",
    "plt.xlabel('Weight')\n",
    "plt.ylabel('Normal Distribution')\n",
    "plt.show()\n"
   ]
  }
 ],
 "metadata": {
  "kernelspec": {
   "display_name": "Python 3 (ipykernel)",
   "language": "python",
   "name": "python3"
  },
  "language_info": {
   "codemirror_mode": {
    "name": "ipython",
    "version": 3
   },
   "file_extension": ".py",
   "mimetype": "text/x-python",
   "name": "python",
   "nbconvert_exporter": "python",
   "pygments_lexer": "ipython3",
   "version": "3.8.8"
  }
 },
 "nbformat": 4,
 "nbformat_minor": 5
}
